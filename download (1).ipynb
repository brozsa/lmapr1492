{
 "cells": [
  {
   "cell_type": "code",
   "execution_count": 18,
   "id": "surgical-ladder",
   "metadata": {},
   "outputs": [],
   "source": [
    "from pymatgen import Structure\n",
    "from pymatgen.symmetry.analyzer import SpacegroupAnalyzer\n",
    "from pymatgen.core.composition import Composition\n",
    "from jupyter_jsmol.pymatgen import quick_view\n",
    "from pymatgen.ext.matproj import MPRester\n",
    "\n",
    "with MPRester(\"6D8NXvBA170Om5w3\") as m:\n",
    "    structure = m.get_structure_by_material_id(\"mp-2530\")\n",
    "    dos = m.get_dos_by_material_id(\"mp-2530\")\n",
    "    bandstructure = m.get_bandstructure_by_material_id(\"mp-2530\")\n",
    "    data = m.get_data(\"mp-2530\")"
   ]
  },
  {
   "cell_type": "code",
   "execution_count": 19,
   "id": "orange-proof",
   "metadata": {},
   "outputs": [
    {
     "data": {
      "application/vnd.jupyter.widget-view+json": {
       "model_id": "43b77ccaeb36403ca2b2fee261eb8507",
       "version_major": 2,
       "version_minor": 0
      },
      "text/plain": [
       "JsmolView(layout=Layout(align_self='stretch', height='400px'))"
      ]
     },
     "metadata": {},
     "output_type": "display_data"
    }
   ],
   "source": [
    "view = quick_view(structure)\n",
    "display(view)"
   ]
  },
  {
   "cell_type": "code",
   "execution_count": 8,
   "id": "ordered-dietary",
   "metadata": {},
   "outputs": [
    {
     "name": "stdout",
     "output_type": "stream",
     "text": [
      "Complete DOS for Full Formula (Li2 Te1)\n",
      "Reduced Formula: Li2Te\n",
      "abc   :   4.606441   4.606441   4.606441\n",
      "angles:  60.000000  60.000000  60.000000\n",
      "Sites (3)\n",
      "  #  SP       a     b     c\n",
      "---  ----  ----  ----  ----\n",
      "  0  Li    0.25  0.25  0.25\n",
      "  1  Li    0.75  0.75  0.75\n",
      "  2  Te    0     0     0\n"
     ]
    }
   ],
   "source": [
    "print(dos)"
   ]
  },
  {
   "cell_type": "code",
   "execution_count": 20,
   "id": "compressed-laptop",
   "metadata": {},
   "outputs": [
    {
     "name": "stdout",
     "output_type": "stream",
     "text": [
      "[{'energy': -10.07335992, 'energy_per_atom': -3.35778664, 'volume': 69.11648984895743, 'formation_energy_per_atom': -1.0374044277777774, 'nsites': 3, 'unit_cell_formula': {'Li': 2.0, 'Te': 1.0}, 'pretty_formula': 'Li2Te', 'is_hubbard': False, 'elements': ['Li', 'Te'], 'nelements': 2, 'e_above_hull': 0, 'hubbards': {}, 'is_compatible': True, 'spacegroup': {'symprec': 0.1, 'source': 'spglib', 'symbol': 'Fm-3m', 'number': 225, 'point_group': 'm-3m', 'crystal_system': 'cubic', 'hall': '-F 4 2 3'}, 'task_ids': ['mp-661114', 'mp-657950', 'mp-660423', 'mp-2530', 'mp-1063164', 'mp-1063178', 'mp-1063190', 'mp-1063193', 'mp-1142243', 'mp-1439138'], 'band_gap': 2.5171000000000006, 'density': 3.3991365697840776, 'icsd_id': None, 'icsd_ids': [642399, 60434, 182740, 642398], 'cif': \"# generated using pymatgen\\ndata_Li2Te\\n_symmetry_space_group_name_H-M   'P 1'\\n_cell_length_a   4.60644147\\n_cell_length_b   4.60644147\\n_cell_length_c   4.60644147\\n_cell_angle_alpha   60.00000000\\n_cell_angle_beta   60.00000000\\n_cell_angle_gamma   60.00000000\\n_symmetry_Int_Tables_number   1\\n_chemical_formula_structural   Li2Te\\n_chemical_formula_sum   'Li2 Te1'\\n_cell_volume   69.11648985\\n_cell_formula_units_Z   1\\nloop_\\n _symmetry_equiv_pos_site_id\\n _symmetry_equiv_pos_as_xyz\\n  1  'x, y, z'\\nloop_\\n _atom_site_type_symbol\\n _atom_site_label\\n _atom_site_symmetry_multiplicity\\n _atom_site_fract_x\\n _atom_site_fract_y\\n _atom_site_fract_z\\n _atom_site_occupancy\\n  Li  Li0  1  0.75000000  0.75000000  0.75000000  1\\n  Li  Li1  1  0.25000000  0.25000000  0.25000000  1\\n  Te  Te2  1  0.00000000  0.00000000  0.00000000  1\\n\", 'total_magnetization': 0.0, 'material_id': 'mp-2530', 'oxide_type': 'None', 'tags': ['Lithium telluride', 'Dilithium telluride'], 'elasticity': None, 'piezo': None, 'diel': {'e_electronic': [[4.967333579809477, -6.363015650887118e-07, 6.363014798552091e-07], [-6.363015650455606e-07, 4.9673332099753935, -6.655163033997269e-07], [6.363014798983602e-07, -6.655163033997269e-07, 4.967333209975216]], 'e_total': [[8.421333751516654, -1.0787493452564088e-06, 1.0787492007840062e-06], [-1.0787493451846433e-06, 8.421333124521063, -1.1282783454191758e-06], [1.078749200855772e-06, -1.1282783454191758e-06, 8.42133312452076]], 'n': 2.228751518957051, 'poly_electronic': 4.967333333253362, 'poly_total': 8.421333333519494}, 'deprecated': False, 'full_formula': 'Li2Te1'}]\n"
     ]
    }
   ],
   "source": [
    "print(data)"
   ]
  },
  {
   "cell_type": "code",
   "execution_count": null,
   "id": "0b6b1eb6",
   "metadata": {},
   "outputs": [],
   "source": []
  },
  {
   "cell_type": "code",
   "execution_count": null,
   "id": "e24c74c5",
   "metadata": {},
   "outputs": [],
   "source": []
  }
 ],
 "metadata": {
  "kernelspec": {
   "display_name": "Python 3",
   "language": "python",
   "name": "python3"
  },
  "language_info": {
   "codemirror_mode": {
    "name": "ipython",
    "version": 3
   },
   "file_extension": ".py",
   "mimetype": "text/x-python",
   "name": "python",
   "nbconvert_exporter": "python",
   "pygments_lexer": "ipython3",
   "version": "3.6.8"
  }
 },
 "nbformat": 4,
 "nbformat_minor": 5
}
