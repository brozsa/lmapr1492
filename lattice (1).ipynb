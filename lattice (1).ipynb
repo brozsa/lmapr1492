{
 "cells": [
  {
   "cell_type": "code",
   "execution_count": 14,
   "id": "dried-arnold",
   "metadata": {},
   "outputs": [],
   "source": [
    "from pymatgen.ext.matproj import MPRester\n",
    "\n",
    "with MPRester(\"6D8NXvBA170Om5w3\") as m:\n",
    "    structure = m.get_structure_by_material_id(\"mp-2530\")\n",
    "    dos = m.get_dos_by_material_id(\"mp-2530\")\n",
    "    bandstructure = m.get_bandstructure_by_material_id(\"mp-2530\")"
   ]
  },
  {
   "cell_type": "code",
   "execution_count": 15,
   "id": "injured-shock",
   "metadata": {},
   "outputs": [
    {
     "name": "stdout",
     "output_type": "stream",
     "text": [
      "Complete DOS for Full Formula (Li2 Te1)\n",
      "Reduced Formula: Li2Te\n",
      "abc   :   4.606441   4.606441   4.606441\n",
      "angles:  60.000000  60.000000  60.000000\n",
      "Sites (3)\n",
      "  #  SP       a     b     c\n",
      "---  ----  ----  ----  ----\n",
      "  0  Li    0.25  0.25  0.25\n",
      "  1  Li    0.75  0.75  0.75\n",
      "  2  Te    0     0     0\n"
     ]
    }
   ],
   "source": [
    "print(dos)"
   ]
  },
  {
   "cell_type": "code",
   "execution_count": 16,
   "id": "chronic-firmware",
   "metadata": {},
   "outputs": [
    {
     "name": "stdout",
     "output_type": "stream",
     "text": [
      "Full Formula (Li2 Te1)\n",
      "Reduced Formula: Li2Te\n",
      "abc   :   4.606441   4.606441   4.606441\n",
      "angles:  60.000000  60.000000  60.000000\n",
      "Sites (3)\n",
      "  #  SP       a     b     c    magmom\n",
      "---  ----  ----  ----  ----  --------\n",
      "  0  Li    0.75  0.75  0.75         0\n",
      "  1  Li    0.25  0.25  0.25         0\n",
      "  2  Te    0     0     0           -0\n"
     ]
    }
   ],
   "source": [
    "print(structure)"
   ]
  },
  {
   "cell_type": "code",
   "execution_count": 17,
   "id": "6abb0745",
   "metadata": {},
   "outputs": [
    {
     "name": "stdout",
     "output_type": "stream",
     "text": [
      "<pymatgen.electronic_structure.bandstructure.BandStructureSymmLine object at 0x7f9111e38470>\n"
     ]
    }
   ],
   "source": [
    "print(bandstructure)"
   ]
  },
  {
   "cell_type": "code",
   "execution_count": 13,
   "id": "metallic-plane",
   "metadata": {},
   "outputs": [
    {
     "name": "stdout",
     "output_type": "stream",
     "text": [
      "[{'structure': Structure Summary\n",
      "Lattice\n",
      "    abc : 4.606441469185514 4.606441469185514 4.606441469185514\n",
      " angles : 59.99999999999999 59.99999999999999 59.99999999999999\n",
      " volume : 69.11648984895743\n",
      "      A : 0.0 3.257246 3.257246\n",
      "      B : 3.257246 0.0 3.257246\n",
      "      C : 3.257246 3.257246 0.0\n",
      "PeriodicSite: Li (4.8859, 4.8859, 4.8859) [0.7500, 0.7500, 0.7500]\n",
      "PeriodicSite: Li (1.6286, 1.6286, 1.6286) [0.2500, 0.2500, 0.2500]\n",
      "PeriodicSite: Te (0.0000, 0.0000, 0.0000) [0.0000, 0.0000, 0.0000]}]\n",
      "[{'point_group_symbol': None}]\n",
      "[{'spacegroup.symbol': 'Fm-3m'}]\n",
      "[{'crystal_system': 'cubic'}]\n",
      "[{'reciprocal_lattice': None}]\n"
     ]
    }
   ],
   "source": [
    "from pymatgen.ext.matproj import MPRester\n",
    "\n",
    "with MPRester(\"6D8NXvBA170Om5w3\") as m:\n",
    "    results = m.query(\"mp-2530\", ['pretty_formula'])\n",
    "structure = m.query(criteria={\"pretty_formula\": \"Li2Te\"}, properties=[\"structure\"])\n",
    "point_group = m.query(criteria={\"pretty_formula\": \"Li2Te\"}, properties=[\"point_group_symbol\"])\n",
    "spacegroup = m.query(criteria={\"pretty_formula\": \"Li2Te\"}, properties=[\"spacegroup.symbol\"])\n",
    "crystal_system = m.query(criteria={\"pretty_formula\": \"Li2Te\"}, properties=[\"crystal_system\"])\n",
    "reciprocal_lattice = m.query(criteria={\"pretty_formula\": \"Li2Te\"}, properties=[\"reciprocal_lattice\"])\n",
    "\n",
    "print(structure) \n",
    "print(point_group)\n",
    "print(spacegroup)\n",
    "print(crystal_system)\n",
    "print(reciprocal_lattice)"
   ]
  },
  {
   "cell_type": "code",
   "execution_count": null,
   "id": "rubber-moderator",
   "metadata": {},
   "outputs": [],
   "source": []
  },
  {
   "cell_type": "code",
   "execution_count": null,
   "id": "invalid-organizer",
   "metadata": {},
   "outputs": [],
   "source": []
  }
 ],
 "metadata": {
  "kernelspec": {
   "display_name": "Python 3",
   "language": "python",
   "name": "python3"
  },
  "language_info": {
   "codemirror_mode": {
    "name": "ipython",
    "version": 3
   },
   "file_extension": ".py",
   "mimetype": "text/x-python",
   "name": "python",
   "nbconvert_exporter": "python",
   "pygments_lexer": "ipython3",
   "version": "3.6.8"
  }
 },
 "nbformat": 4,
 "nbformat_minor": 5
}
