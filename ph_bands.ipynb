{
 "cells": [
  {
   "cell_type": "code",
   "execution_count": 59,
   "id": "4f8e98dd",
   "metadata": {},
   "outputs": [],
   "source": [
    "from pymatgen import Structure\n",
    "from jupyter_jsmol.pymatgen import quick_view\n",
    "from pymatgen import MPRester\n",
    "\n",
    "from pymatgen.phonon.bandstructure import PhononBandStructureSymmLine\n",
    "from pymatgen.phonon.bandstructure import PhononBandStructure\n",
    "from monty.json import MSONable\n",
    "\n",
    "from pymatgen.core.lattice import Lattice\n",
    "from pymatgen.core.structure import Structure\n",
    "from pymatgen.electronic_structure.bandstructure import Kpoint"
   ]
  },
  {
   "cell_type": "code",
   "execution_count": 60,
   "id": "a550e593",
   "metadata": {},
   "outputs": [
    {
     "ename": "MPRestError",
     "evalue": "REST query returned with error status code 503. Content: b'<!DOCTYPE HTML PUBLIC \"-//IETF//DTD HTML 2.0//EN\">\\n<html><head>\\n<title>503 Service Unavailable</title>\\n</head><body>\\n<h1>Service Unavailable</h1>\\n<p>The server is temporarily unable to service your\\nrequest due to maintenance downtime or capacity\\nproblems. Please try again later.</p>\\n<hr>\\n<address>Apache/2.4.41 (Ubuntu) Server at materialsproject.org Port 80</address>\\n</body></html>\\n'",
     "output_type": "error",
     "traceback": [
      "\u001b[0;31m---------------------------------------------------------------------------\u001b[0m",
      "\u001b[0;31mMPRestError\u001b[0m                               Traceback (most recent call last)",
      "\u001b[0;32m/usr/local/lib64/python3.6/site-packages/pymatgen/ext/matproj.py\u001b[0m in \u001b[0;36m_make_request\u001b[0;34m(self, sub_url, payload, method, mp_decode)\u001b[0m\n\u001b[1;32m    258\u001b[0m                 \"REST query returned with error status code {}\".format(\n\u001b[0;32m--> 259\u001b[0;31m                     \u001b[0mresponse\u001b[0m\u001b[0;34m.\u001b[0m\u001b[0mstatus_code\u001b[0m\u001b[0;34m\u001b[0m\u001b[0;34m\u001b[0m\u001b[0m\n\u001b[0m\u001b[1;32m    260\u001b[0m                 )\n",
      "\u001b[0;31mMPRestError\u001b[0m: REST query returned with error status code 503",
      "\nDuring handling of the above exception, another exception occurred:\n",
      "\u001b[0;31mMPRestError\u001b[0m                               Traceback (most recent call last)",
      "\u001b[0;32m<ipython-input-60-c8e7defd5510>\u001b[0m in \u001b[0;36m<module>\u001b[0;34m\u001b[0m\n\u001b[0;32m----> 1\u001b[0;31m \u001b[0;32mwith\u001b[0m \u001b[0mMPRester\u001b[0m\u001b[0;34m(\u001b[0m\u001b[0;34m\"6D8NXvBA170Om5w3\"\u001b[0m\u001b[0;34m)\u001b[0m \u001b[0;32mas\u001b[0m \u001b[0mm\u001b[0m\u001b[0;34m:\u001b[0m\u001b[0;34m\u001b[0m\u001b[0;34m\u001b[0m\u001b[0m\n\u001b[0m\u001b[1;32m      2\u001b[0m     \u001b[0mbs\u001b[0m \u001b[0;34m=\u001b[0m \u001b[0mm\u001b[0m\u001b[0;34m.\u001b[0m\u001b[0mget_phonon_bandstructure_by_material_id\u001b[0m\u001b[0;34m(\u001b[0m\u001b[0;34m\"mp-2530\"\u001b[0m\u001b[0;34m)\u001b[0m\u001b[0;34m\u001b[0m\u001b[0;34m\u001b[0m\u001b[0m\n\u001b[1;32m      3\u001b[0m     \u001b[0mdos\u001b[0m \u001b[0;34m=\u001b[0m \u001b[0mm\u001b[0m\u001b[0;34m.\u001b[0m\u001b[0mget_phonon_dos_by_material_id\u001b[0m\u001b[0;34m(\u001b[0m\u001b[0;34m\"mp-2530\"\u001b[0m\u001b[0;34m)\u001b[0m\u001b[0;34m\u001b[0m\u001b[0;34m\u001b[0m\u001b[0m\n",
      "\u001b[0;32m/usr/local/lib64/python3.6/site-packages/pymatgen/ext/matproj.py\u001b[0m in \u001b[0;36m__init__\u001b[0;34m(self, api_key, endpoint, notify_db_version, include_user_agent)\u001b[0m\n\u001b[1;32m    192\u001b[0m \u001b[0;34m\u001b[0m\u001b[0m\n\u001b[1;32m    193\u001b[0m         \u001b[0;32mif\u001b[0m \u001b[0mnotify_db_version\u001b[0m\u001b[0;34m:\u001b[0m\u001b[0;34m\u001b[0m\u001b[0;34m\u001b[0m\u001b[0m\n\u001b[0;32m--> 194\u001b[0;31m             \u001b[0mdb_version\u001b[0m \u001b[0;34m=\u001b[0m \u001b[0mself\u001b[0m\u001b[0;34m.\u001b[0m\u001b[0mget_database_version\u001b[0m\u001b[0;34m(\u001b[0m\u001b[0;34m)\u001b[0m\u001b[0;34m\u001b[0m\u001b[0;34m\u001b[0m\u001b[0m\n\u001b[0m\u001b[1;32m    195\u001b[0m             logger.info(\n\u001b[1;32m    196\u001b[0m                 \u001b[0;34mf\"Connection established to Materials Project database, version {db_version}.\"\u001b[0m\u001b[0;34m\u001b[0m\u001b[0;34m\u001b[0m\u001b[0m\n",
      "\u001b[0;32m/usr/local/lib64/python3.6/site-packages/pymatgen/ext/matproj.py\u001b[0m in \u001b[0;36mget_database_version\u001b[0;34m(self)\u001b[0m\n\u001b[1;32m    283\u001b[0m         \u001b[0mReturns\u001b[0m\u001b[0;34m:\u001b[0m \u001b[0mdatabase\u001b[0m \u001b[0mversion\u001b[0m \u001b[0;32mas\u001b[0m \u001b[0ma\u001b[0m \u001b[0mstring\u001b[0m\u001b[0;34m\u001b[0m\u001b[0;34m\u001b[0m\u001b[0m\n\u001b[1;32m    284\u001b[0m         \"\"\"\n\u001b[0;32m--> 285\u001b[0;31m         \u001b[0md\u001b[0m \u001b[0;34m=\u001b[0m \u001b[0mself\u001b[0m\u001b[0;34m.\u001b[0m\u001b[0m_make_request\u001b[0m\u001b[0;34m(\u001b[0m\u001b[0;34m\"/api_check\"\u001b[0m\u001b[0;34m)\u001b[0m\u001b[0;34m\u001b[0m\u001b[0;34m\u001b[0m\u001b[0m\n\u001b[0m\u001b[1;32m    286\u001b[0m         \u001b[0;32mreturn\u001b[0m \u001b[0md\u001b[0m\u001b[0;34m[\u001b[0m\u001b[0;34m\"version\"\u001b[0m\u001b[0;34m]\u001b[0m\u001b[0;34m[\u001b[0m\u001b[0;34m\"db\"\u001b[0m\u001b[0;34m]\u001b[0m\u001b[0;34m\u001b[0m\u001b[0;34m\u001b[0m\u001b[0m\n\u001b[1;32m    287\u001b[0m \u001b[0;34m\u001b[0m\u001b[0m\n",
      "\u001b[0;32m/usr/local/lib64/python3.6/site-packages/pymatgen/ext/matproj.py\u001b[0m in \u001b[0;36m_make_request\u001b[0;34m(self, sub_url, payload, method, mp_decode)\u001b[0m\n\u001b[1;32m    267\u001b[0m                 \u001b[0;32melse\u001b[0m \u001b[0mstr\u001b[0m\u001b[0;34m(\u001b[0m\u001b[0mex\u001b[0m\u001b[0;34m)\u001b[0m\u001b[0;34m\u001b[0m\u001b[0;34m\u001b[0m\u001b[0m\n\u001b[1;32m    268\u001b[0m             )\n\u001b[0;32m--> 269\u001b[0;31m             \u001b[0;32mraise\u001b[0m \u001b[0mMPRestError\u001b[0m\u001b[0;34m(\u001b[0m\u001b[0mmsg\u001b[0m\u001b[0;34m)\u001b[0m\u001b[0;34m\u001b[0m\u001b[0;34m\u001b[0m\u001b[0m\n\u001b[0m\u001b[1;32m    270\u001b[0m \u001b[0;34m\u001b[0m\u001b[0m\n\u001b[1;32m    271\u001b[0m     \u001b[0;32mdef\u001b[0m \u001b[0mget_database_version\u001b[0m\u001b[0;34m(\u001b[0m\u001b[0mself\u001b[0m\u001b[0;34m)\u001b[0m\u001b[0;34m:\u001b[0m\u001b[0;34m\u001b[0m\u001b[0;34m\u001b[0m\u001b[0m\n",
      "\u001b[0;31mMPRestError\u001b[0m: REST query returned with error status code 503. Content: b'<!DOCTYPE HTML PUBLIC \"-//IETF//DTD HTML 2.0//EN\">\\n<html><head>\\n<title>503 Service Unavailable</title>\\n</head><body>\\n<h1>Service Unavailable</h1>\\n<p>The server is temporarily unable to service your\\nrequest due to maintenance downtime or capacity\\nproblems. Please try again later.</p>\\n<hr>\\n<address>Apache/2.4.41 (Ubuntu) Server at materialsproject.org Port 80</address>\\n</body></html>\\n'"
     ]
    }
   ],
   "source": [
    "with MPRester(\"6D8NXvBA170Om5w3\") as m:\n",
    "    bs = m.get_phonon_bandstructure_by_material_id(\"mp-2530\")\n",
    "    dos = m.get_phonon_dos_by_material_id(\"mp-2530\")"
   ]
  },
  {
   "cell_type": "code",
   "execution_count": 73,
   "id": "5a8de559",
   "metadata": {},
   "outputs": [
    {
     "name": "stdout",
     "output_type": "stream",
     "text": [
      "[0. 0. 0.]\n"
     ]
    }
   ],
   "source": [
    "A = bs.asr_breaking()\n",
    "print(A)"
   ]
  },
  {
   "cell_type": "code",
   "execution_count": 74,
   "id": "a8bb9c56",
   "metadata": {},
   "outputs": [
    {
     "name": "stdout",
     "output_type": "stream",
     "text": [
      "[[ 0.          0.21210537  0.4213836  ...  2.24887622  2.25494497\n",
      "   2.2569797 ]\n",
      " [ 0.          0.21210537  0.4213836  ...  2.31423175  2.27180541\n",
      "   2.2569797 ]\n",
      " [ 0.          0.31862389  0.63270932 ...  3.15112517  3.17026029\n",
      "   3.17675485]\n",
      " ...\n",
      " [ 9.17011631  9.174603    9.17815167 ...  9.05981381  9.06342104\n",
      "   9.06457075]\n",
      " [ 9.17011631  9.174603    9.17815167 ...  9.06581342  9.0649568\n",
      "   9.06457075]\n",
      " [ 9.96008737  9.97080581 10.00614087 ... 11.86810646 11.93664398\n",
      "  11.96043112]]\n"
     ]
    }
   ],
   "source": [
    "B =bs.bands\n",
    "print(B)"
   ]
  },
  {
   "cell_type": "code",
   "execution_count": 75,
   "id": "6479920e",
   "metadata": {},
   "outputs": [
    {
     "name": "stdout",
     "output_type": "stream",
     "text": [
      "[[array([7.07106781e-01, 4.02636462e-17, 7.07106781e-01])\n",
      "  array([0.        , 0.        , 0.        , 7.76825084, 7.76825084,\n",
      "       9.17011631, 9.17011631, 9.17011631, 9.96008737])]\n",
      " [array([0.40824829, 0.40824829, 0.81649658])\n",
      "  array([0.        , 0.        , 0.        , 7.76825084, 7.76825084,\n",
      "       9.17011631, 9.17011631, 9.17011631, 9.96008737])]\n",
      " [array([0.57735027, 0.57735027, 0.57735027])\n",
      "  array([0.        , 0.        , 0.        , 7.76825084, 7.76825084,\n",
      "       9.17011631, 9.17011631, 9.17011631, 9.96008737])]]\n"
     ]
    }
   ],
   "source": [
    "C = bs.nac_frequencies\n",
    "print(C)"
   ]
  },
  {
   "cell_type": "code",
   "execution_count": null,
   "id": "4600e7bf",
   "metadata": {},
   "outputs": [],
   "source": []
  }
 ],
 "metadata": {
  "kernelspec": {
   "display_name": "Python 3",
   "language": "python",
   "name": "python3"
  },
  "language_info": {
   "codemirror_mode": {
    "name": "ipython",
    "version": 3
   },
   "file_extension": ".py",
   "mimetype": "text/x-python",
   "name": "python",
   "nbconvert_exporter": "python",
   "pygments_lexer": "ipython3",
   "version": "3.6.8"
  }
 },
 "nbformat": 4,
 "nbformat_minor": 5
}
