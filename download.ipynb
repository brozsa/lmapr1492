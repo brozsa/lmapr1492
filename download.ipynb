{
 "cells": [
  {
   "cell_type": "code",
   "execution_count": 58,
   "id": "surgical-ladder",
   "metadata": {},
   "outputs": [],
   "source": [
    "from pymatgen import Structure\n",
    "from pymatgen.symmetry.analyzer import SpacegroupAnalyzer\n",
    "from pymatgen.core.composition import Composition\n",
    "from jupyter_jsmol.pymatgen import quick_view\n",
    "from pymatgen.ext.matproj import MPRester\n",
    "\n",
    "with MPRester(\"q7MQ57ytvhR9jobwX\") as m:\n",
    "    structure = m.get_structure_by_material_id(\"mp-20072\")\n",
    "    dos = m.get_dos_by_material_id(\"mp-20072\")"
   ]
  },
  {
   "cell_type": "code",
   "execution_count": 56,
   "id": "orange-proof",
   "metadata": {},
   "outputs": [
    {
     "data": {
      "application/vnd.jupyter.widget-view+json": {
       "model_id": "3405022aad3d4a38b6a54751cd14377c",
       "version_major": 2,
       "version_minor": 0
      },
      "text/plain": [
       "JsmolView(layout=Layout(align_self='stretch', height='400px'))"
      ]
     },
     "metadata": {},
     "output_type": "display_data"
    }
   ],
   "source": [
    "view = quick_view(structure)\n",
    "display(view)"
   ]
  },
  {
   "cell_type": "code",
   "execution_count": 57,
   "id": "ordered-dietary",
   "metadata": {},
   "outputs": [
    {
     "name": "stdout",
     "output_type": "stream",
     "text": [
      "Complete DOS for Full Formula (La1 Cu1 O2)\n",
      "Reduced Formula: LaCuO2\n",
      "abc   :   6.094486   6.094486   6.094487\n",
      "angles:  36.903506  36.903506  36.903498\n",
      "Sites (4)\n",
      "  #  SP           a         b         c\n",
      "---  ----  --------  --------  --------\n",
      "  0  La    0.5       0.5       0.5\n",
      "  1  Cu    0         0         0\n",
      "  2  O     0.893321  0.893321  0.893321\n",
      "  3  O     0.106679  0.106679  0.106679\n"
     ]
    }
   ],
   "source": [
    "print(dos)"
   ]
  },
  {
   "cell_type": "code",
   "execution_count": null,
   "id": "compressed-laptop",
   "metadata": {},
   "outputs": [],
   "source": []
  }
 ],
 "metadata": {
  "kernelspec": {
   "display_name": "Python 3",
   "language": "python",
   "name": "python3"
  },
  "language_info": {
   "codemirror_mode": {
    "name": "ipython",
    "version": 3
   },
   "file_extension": ".py",
   "mimetype": "text/x-python",
   "name": "python",
   "nbconvert_exporter": "python",
   "pygments_lexer": "ipython3",
   "version": "3.6.8"
  }
 },
 "nbformat": 4,
 "nbformat_minor": 5
}
