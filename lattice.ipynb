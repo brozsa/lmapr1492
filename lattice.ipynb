{
 "cells": [
  {
   "cell_type": "code",
   "execution_count": 20,
   "id": "dried-arnold",
   "metadata": {},
   "outputs": [],
   "source": [
    "from pymatgen.ext.matproj import MPRester\n",
    "\n",
    "with MPRester(\"q7MQ57ytvhR9jobwX\") as m:\n",
    "    dos = m.get_dos_by_material_id(\"mp-20072\")"
   ]
  },
  {
   "cell_type": "code",
   "execution_count": 21,
   "id": "injured-shock",
   "metadata": {},
   "outputs": [
    {
     "name": "stdout",
     "output_type": "stream",
     "text": [
      "Complete DOS for Full Formula (La1 Cu1 O2)\n",
      "Reduced Formula: LaCuO2\n",
      "abc   :   6.094486   6.094486   6.094487\n",
      "angles:  36.903506  36.903506  36.903498\n",
      "Sites (4)\n",
      "  #  SP           a         b         c\n",
      "---  ----  --------  --------  --------\n",
      "  0  La    0.5       0.5       0.5\n",
      "  1  Cu    0         0         0\n",
      "  2  O     0.893321  0.893321  0.893321\n",
      "  3  O     0.106679  0.106679  0.106679\n"
     ]
    }
   ],
   "source": [
    "print(dos)"
   ]
  },
  {
   "cell_type": "code",
   "execution_count": null,
   "id": "chronic-firmware",
   "metadata": {},
   "outputs": [],
   "source": []
  },
  {
   "cell_type": "code",
   "execution_count": 22,
   "id": "metallic-plane",
   "metadata": {},
   "outputs": [
    {
     "name": "stdout",
     "output_type": "stream",
     "text": [
      "[{'structure': Structure Summary\n",
      "Lattice\n",
      "    abc : 6.0944862847548515 6.0944862847548515 6.094486714299901\n",
      " angles : 36.90350558038438 36.90350558038438 36.90349776654988\n",
      " volume : 73.11946374216448\n",
      "      A : 5.781172 -1.928941 0.0\n",
      "      B : 5.781172 1.928941 0.0\n",
      "      C : 5.137563 0.0 3.278447\n",
      "PeriodicSite: La (8.3500, 0.0000, 1.6392) [0.5000, 0.5000, 0.5000]\n",
      "PeriodicSite: Cu (0.0000, 0.0000, 0.0000) [0.0000, 0.0000, 0.0000]\n",
      "PeriodicSite: O (14.9184, 0.0000, 2.9287) [0.8933, 0.8933, 0.8933]\n",
      "PeriodicSite: O (1.7815, 0.0000, 0.3497) [0.1067, 0.1067, 0.1067]}]\n",
      "[{'point_group': None}]\n",
      "[{'spacegroup.symbol': 'R-3m'}]\n",
      "[{'crystal_system': 'trigonal'}]\n"
     ]
    }
   ],
   "source": [
    "from pymatgen.ext.matproj import MPRester\n",
    "\n",
    "with MPRester(\"q7MQ57ytvhR9jobwX\") as m:\n",
    "    results = m.query(\"mp-20072\", ['pretty_formula'])\n",
    "structure = m.query(criteria={\"pretty_formula\": \"LaCuO2\"}, properties=[\"structure\"])\n",
    "point_group = m.query(criteria={\"pretty_formula\": \"LaCuO2\"}, properties=[\"point_group\"])\n",
    "spacegroup = m.query(criteria={\"pretty_formula\": \"LaCuO2\"}, properties=[\"spacegroup.symbol\"])\n",
    "crystal_system = m.query(criteria={\"pretty_formula\": \"LaCuO2\"}, properties=[\"crystal_system\"])\n",
    "\n",
    "print(structure) \n",
    "print(point_group)\n",
    "print(spacegroup)\n",
    "print(crystal_system)"
   ]
  },
  {
   "cell_type": "code",
   "execution_count": null,
   "id": "rubber-moderator",
   "metadata": {},
   "outputs": [],
   "source": []
  },
  {
   "cell_type": "code",
   "execution_count": null,
   "id": "invalid-organizer",
   "metadata": {},
   "outputs": [],
   "source": []
  }
 ],
 "metadata": {
  "kernelspec": {
   "display_name": "Python 3",
   "language": "python",
   "name": "python3"
  },
  "language_info": {
   "codemirror_mode": {
    "name": "ipython",
    "version": 3
   },
   "file_extension": ".py",
   "mimetype": "text/x-python",
   "name": "python",
   "nbconvert_exporter": "python",
   "pygments_lexer": "ipython3",
   "version": "3.6.8"
  }
 },
 "nbformat": 4,
 "nbformat_minor": 5
}
