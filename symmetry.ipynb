{
 "cells": [
  {
   "cell_type": "code",
   "execution_count": 19,
   "id": "05a61eb2",
   "metadata": {},
   "outputs": [],
   "source": [
    "from pymatgen.ext.matproj import MPRester\n",
    "from pymatgen.symmetry.analyzer import SpacegroupAnalyzer\n",
    "from jupyter_jsmol import JsmolView\n",
    "from ipywidgets import Layout, widgets, interact\n",
    "from IPython.display import display\n",
    "from jupyter_jsmol.pymatgen import quick_view"
   ]
  },
  {
   "cell_type": "code",
   "execution_count": 30,
   "id": "mathematical-fundamental",
   "metadata": {},
   "outputs": [],
   "source": [
    "with MPRester(\"6D8NXvBA170Om5w3\") as m:\n",
    "    structure = m.get_structure_by_material_id(\"mp-2530\")\n",
    "    analyzer = SpacegroupAnalyzer(structure)\n",
    "    \n",
    "conven = analyzer.get_conventional_standard_structure()\n",
    "symetries_list = analyzer.get_symmetry_operations()\n",
    "sites = conven.sites\n",
    "print(sites)\n",
    "print(symetries_list)"
   ]
  },
  {
   "cell_type": "code",
   "execution_count": 47,
   "id": "da8d4c6c",
   "metadata": {},
   "outputs": [],
   "source": [
    "sym1 = symetries_list[1]"
   ]
  },
  {
   "cell_type": "code",
   "execution_count": 58,
   "id": "limited-house",
   "metadata": {},
   "outputs": [
    {
     "data": {
      "application/vnd.jupyter.widget-view+json": {
       "model_id": "898a7106afb44ff7b1d0b48b666e4d7b",
       "version_major": 2,
       "version_minor": 0
      },
      "text/plain": [
       "JsmolView(layout=Layout(align_self='stretch', height='400px'))"
      ]
     },
     "metadata": {},
     "output_type": "display_data"
    }
   ],
   "source": [
    "view = quick_view(conven)\n",
    "display(view) \n",
    "view.script('draw SYMOP 2 {atomno=0}')"
   ]
  },
  {
   "cell_type": "code",
   "execution_count": 49,
   "id": "cf29a3d1",
   "metadata": {},
   "outputs": [],
   "source": [
    "sym2 = symetries_list[13]"
   ]
  },
  {
   "cell_type": "code",
   "execution_count": 50,
   "id": "101b8ea0",
   "metadata": {},
   "outputs": [
    {
     "data": {
      "application/vnd.jupyter.widget-view+json": {
       "model_id": "3af3f48883f042f396315b8a42d3274d",
       "version_major": 2,
       "version_minor": 0
      },
      "text/plain": [
       "JsmolView(layout=Layout(align_self='stretch', height='400px'))"
      ]
     },
     "metadata": {},
     "output_type": "display_data"
    }
   ],
   "source": [
    "view = quick_view(conven)\n",
    "display(view) \n",
    "view.script('draw SYMOP 14  {atomno=3}')\n",
    "#plan miroir (x,-y,z)"
   ]
  },
  {
   "cell_type": "code",
   "execution_count": 52,
   "id": "5cf72561",
   "metadata": {},
   "outputs": [],
   "source": [
    "sym3 = symetries_list[15]"
   ]
  },
  {
   "cell_type": "code",
   "execution_count": 57,
   "id": "d142bd32",
   "metadata": {},
   "outputs": [
    {
     "data": {
      "application/vnd.jupyter.widget-view+json": {
       "model_id": "1e7cc7f1e19c45e286fd9b92fc4ce8f4",
       "version_major": 2,
       "version_minor": 0
      },
      "text/plain": [
       "JsmolView(layout=Layout(align_self='stretch', height='400px'))"
      ]
     },
     "metadata": {},
     "output_type": "display_data"
    }
   ],
   "source": [
    "view = quick_view(conven)\n",
    "display(view) \n",
    "view.script('draw SYMOP 16  {atomno=0}')\n",
    "#plan miroir (-y,x,z)"
   ]
  },
  {
   "cell_type": "code",
   "execution_count": null,
   "id": "8a4d77c2",
   "metadata": {},
   "outputs": [],
   "source": []
  }
 ],
 "metadata": {
  "kernelspec": {
   "display_name": "Python 3",
   "language": "python",
   "name": "python3"
  },
  "language_info": {
   "codemirror_mode": {
    "name": "ipython",
    "version": 3
   },
   "file_extension": ".py",
   "mimetype": "text/x-python",
   "name": "python",
   "nbconvert_exporter": "python",
   "pygments_lexer": "ipython3",
   "version": "3.6.8"
  }
 },
 "nbformat": 4,
 "nbformat_minor": 5
}
