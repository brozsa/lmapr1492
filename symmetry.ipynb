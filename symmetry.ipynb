{
 "cells": [
  {
   "cell_type": "code",
   "execution_count": 180,
   "id": "mathematical-fundamental",
   "metadata": {},
   "outputs": [],
   "source": [
    "from jupyter_jsmol import JsmolView\n",
    "from ipywidgets import Layout, widgets, interact\n",
    "from IPython.display import display"
   ]
  },
  {
   "cell_type": "code",
   "execution_count": 220,
   "id": "limited-house",
   "metadata": {},
   "outputs": [
    {
     "data": {
      "application/vnd.jupyter.widget-view+json": {
       "model_id": "47219df0394a4c918f17708b75e5aa25",
       "version_major": 2,
       "version_minor": 0
      },
      "text/plain": [
       "JsmolView(layout=Layout(height='600px'))"
      ]
     },
     "metadata": {},
     "output_type": "display_data"
    }
   ],
   "source": [
    "view2 = JsmolView(layout=Layout(height=\"600px\"))\n",
    "display(view2)\n",
    "view2.load('LaCuO2_mp-20072_symmetrized.cif', '{1 1 1}')\n",
    "view2.script('LaCuO2_mp-20072_symmetrized.cif 1 1 1}')\n",
    "view2.script('draw symop 32 {atomno=3}')"
   ]
  },
  {
   "cell_type": "code",
   "execution_count": 219,
   "id": "contemporary-admission",
   "metadata": {},
   "outputs": [
    {
     "data": {
      "application/vnd.jupyter.widget-view+json": {
       "model_id": "e30fe1e7ce984f7ebb0420c5beda3185",
       "version_major": 2,
       "version_minor": 0
      },
      "text/plain": [
       "JsmolView(layout=Layout(height='600px'))"
      ]
     },
     "metadata": {},
     "output_type": "display_data"
    }
   ],
   "source": [
    "view3 = JsmolView(layout=Layout(height=\"600px\"))\n",
    "display(view3)\n",
    "view3.load('LaCuO2_mp-20072_symmetrized.cif', '{1 1 1}')\n",
    "view3.script('LaCuO2_mp-20072_symmetrized.cif 1 1 1}')\n",
    "view3.script('draw symop 14 {atomno=2}')"
   ]
  },
  {
   "cell_type": "code",
   "execution_count": 218,
   "id": "cognitive-attachment",
   "metadata": {},
   "outputs": [
    {
     "data": {
      "application/vnd.jupyter.widget-view+json": {
       "model_id": "ec95f2f38f1d442cba871bcbfb8aec4a",
       "version_major": 2,
       "version_minor": 0
      },
      "text/plain": [
       "JsmolView(layout=Layout(height='600px'))"
      ]
     },
     "metadata": {},
     "output_type": "display_data"
    }
   ],
   "source": [
    "view4 = JsmolView(layout=Layout(height=\"600px\"))\n",
    "display(view4)\n",
    "view4.load('LaCuO2_mp-20072_symmetrized.cif', '{1 1 1}')\n",
    "view4.script('LaCuO2_mp-20072_symmetrized.cif 1 1 1}')\n",
    "view4.script('draw symop 10 {atomno=1}')"
   ]
  },
  {
   "cell_type": "code",
   "execution_count": null,
   "id": "linear-bottle",
   "metadata": {},
   "outputs": [],
   "source": []
  },
  {
   "cell_type": "code",
   "execution_count": null,
   "id": "recorded-portfolio",
   "metadata": {},
   "outputs": [],
   "source": []
  }
 ],
 "metadata": {
  "kernelspec": {
   "display_name": "Python 3",
   "language": "python",
   "name": "python3"
  },
  "language_info": {
   "codemirror_mode": {
    "name": "ipython",
    "version": 3
   },
   "file_extension": ".py",
   "mimetype": "text/x-python",
   "name": "python",
   "nbconvert_exporter": "python",
   "pygments_lexer": "ipython3",
   "version": "3.6.8"
  }
 },
 "nbformat": 4,
 "nbformat_minor": 5
}
